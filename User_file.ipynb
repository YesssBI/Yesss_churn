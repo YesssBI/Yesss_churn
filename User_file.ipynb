{
 "cells": [
  {
   "cell_type": "markdown",
   "id": "0217f61d",
   "metadata": {},
   "source": [
    "# <center>User File"
   ]
  },
  {
   "cell_type": "code",
   "execution_count": 1,
   "id": "98d8aadc",
   "metadata": {},
   "outputs": [
    {
     "name": "stdout",
     "output_type": "stream",
     "text": [
      "Once deleted, variables cannot be recovered. Proceed (y/[n])? y\n"
     ]
    }
   ],
   "source": [
    "%reset"
   ]
  },
  {
   "cell_type": "markdown",
   "id": "5ceadfc0",
   "metadata": {},
   "source": [
    "###### Set Target Start and End Dates"
   ]
  },
  {
   "cell_type": "markdown",
   "id": "4224fe0d",
   "metadata": {},
   "source": [
    "Set a date you want to see predictions from "
   ]
  },
  {
   "cell_type": "code",
   "execution_count": 12,
   "id": "623aff17",
   "metadata": {},
   "outputs": [
    {
     "name": "stdout",
     "output_type": "stream",
     "text": [
      "Stored 'target_start' (date)\n"
     ]
    }
   ],
   "source": [
    "import datetime\n",
    "target_start = datetime.date(2022, 1, 1)\n",
    "%store target_start"
   ]
  },
  {
   "cell_type": "markdown",
   "id": "798aebb1",
   "metadata": {},
   "source": [
    "Run a criteria file for other time periods and ranges"
   ]
  },
  {
   "cell_type": "code",
   "execution_count": 15,
   "id": "67d535a6",
   "metadata": {},
   "outputs": [
    {
     "name": "stdout",
     "output_type": "stream",
     "text": [
      "Stored 'model_name' (str)\n"
     ]
    }
   ],
   "source": [
    "model_number = 0\n",
    "model_start = str(target_start)\n",
    "model_name = str('28_03_m' + str(model_number) + '_' + model_start)\n",
    "%store model_name"
   ]
  },
  {
   "cell_type": "code",
   "execution_count": 16,
   "id": "ad6b44f5",
   "metadata": {},
   "outputs": [
    {
     "data": {
      "text/plain": [
       "'28_03_m0_2022-01-01'"
      ]
     },
     "execution_count": 16,
     "metadata": {},
     "output_type": "execute_result"
    }
   ],
   "source": [
    "model_name"
   ]
  },
  {
   "cell_type": "code",
   "execution_count": 17,
   "id": "4c6ee1dd",
   "metadata": {},
   "outputs": [
    {
     "name": "stdout",
     "output_type": "stream",
     "text": [
      "Stored 'target_range' (int)\n",
      "Stored 'training_range' (int)\n",
      "Stored 'training_range_2' (int)\n",
      "Stored 'training_range_3' (int)\n",
      "Stored 'training_end' (date)\n",
      "Stored 'training_period' (DatetimeIndex)\n",
      "Stored 'training_len' (int)\n",
      "Stored 'training_start' (datetime)\n",
      "Stored 'training_period_2' (DatetimeIndex)\n",
      "Stored 'training_len_2' (int)\n",
      "Stored 'training_start_2' (datetime)\n",
      "Stored 'training_period_3' (DatetimeIndex)\n",
      "Stored 'training_len_3' (int)\n",
      "Stored 'training_start_3' (datetime)\n"
     ]
    }
   ],
   "source": [
    "%run Criteria.ipynb"
   ]
  },
  {
   "cell_type": "markdown",
   "id": "1094f849",
   "metadata": {},
   "source": [
    "To see our criteria:"
   ]
  },
  {
   "cell_type": "code",
   "execution_count": 13,
   "id": "376df2d6",
   "metadata": {},
   "outputs": [
    {
     "data": {
      "text/html": [
       "<div>\n",
       "<style scoped>\n",
       "    .dataframe tbody tr th:only-of-type {\n",
       "        vertical-align: middle;\n",
       "    }\n",
       "\n",
       "    .dataframe tbody tr th {\n",
       "        vertical-align: top;\n",
       "    }\n",
       "\n",
       "    .dataframe thead th {\n",
       "        text-align: right;\n",
       "    }\n",
       "</style>\n",
       "<table border=\"1\" class=\"dataframe\">\n",
       "  <thead>\n",
       "    <tr style=\"text-align: right;\">\n",
       "      <th></th>\n",
       "      <th>Periods</th>\n",
       "      <th>Start</th>\n",
       "      <th>End</th>\n",
       "      <th>Range</th>\n",
       "      <th>Target start</th>\n",
       "      <th>Target end</th>\n",
       "      <th>Model name</th>\n",
       "    </tr>\n",
       "  </thead>\n",
       "  <tbody>\n",
       "    <tr>\n",
       "      <th>0</th>\n",
       "      <td>training_period</td>\n",
       "      <td>Mar 24, 2020</td>\n",
       "      <td>Aug 31, 2021</td>\n",
       "      <td>360</td>\n",
       "      <td>Sep 01, 2021</td>\n",
       "      <td>Aug 26, 2022</td>\n",
       "      <td>m_Sep_27_03</td>\n",
       "    </tr>\n",
       "    <tr>\n",
       "      <th>1</th>\n",
       "      <td>training_period_2</td>\n",
       "      <td>Sep 16, 2020</td>\n",
       "      <td>Aug 31, 2021</td>\n",
       "      <td>240</td>\n",
       "      <td>Sep 01, 2021</td>\n",
       "      <td>Aug 26, 2022</td>\n",
       "      <td>m_Sep_27_03</td>\n",
       "    </tr>\n",
       "    <tr>\n",
       "      <th>2</th>\n",
       "      <td>training_period_3</td>\n",
       "      <td>Mar 10, 2021</td>\n",
       "      <td>Aug 31, 2021</td>\n",
       "      <td>120</td>\n",
       "      <td>Sep 01, 2021</td>\n",
       "      <td>Aug 26, 2022</td>\n",
       "      <td>m_Sep_27_03</td>\n",
       "    </tr>\n",
       "  </tbody>\n",
       "</table>\n",
       "</div>"
      ],
      "text/plain": [
       "             Periods         Start           End  Range  Target start  \\\n",
       "0    training_period  Mar 24, 2020  Aug 31, 2021    360  Sep 01, 2021   \n",
       "1  training_period_2  Sep 16, 2020  Aug 31, 2021    240  Sep 01, 2021   \n",
       "2  training_period_3  Mar 10, 2021  Aug 31, 2021    120  Sep 01, 2021   \n",
       "\n",
       "     Target end   Model name  \n",
       "0  Aug 26, 2022  m_Sep_27_03  \n",
       "1  Aug 26, 2022  m_Sep_27_03  \n",
       "2  Aug 26, 2022  m_Sep_27_03  "
      ]
     },
     "execution_count": 13,
     "metadata": {},
     "output_type": "execute_result"
    }
   ],
   "source": [
    "Dates_and_Ranges = pd.read_csv(\"Dates_and_Ranges_\" + model_name +\".csv\") \n",
    "Dates_and_Ranges"
   ]
  },
  {
   "cell_type": "markdown",
   "id": "92575b0b",
   "metadata": {},
   "source": [
    "With our dates and ranges, the next step is to find a file with sales data that fits withing these ranges"
   ]
  },
  {
   "cell_type": "code",
   "execution_count": 14,
   "id": "57d1e0fb",
   "metadata": {},
   "outputs": [],
   "source": [
    "%run Data_sets.ipynb\n",
    "Sales_in_range = pd.read_csv(\"Sales_in_range.csv\") "
   ]
  },
  {
   "cell_type": "markdown",
   "id": "1bee0b57",
   "metadata": {},
   "source": [
    "Then we want to check this is correct for minimum and maximum values and have a look at trading across the to check for errors"
   ]
  },
  {
   "cell_type": "code",
   "execution_count": 15,
   "id": "719158d2",
   "metadata": {},
   "outputs": [
    {
     "data": {
      "text/plain": [
       "(Timestamp('2020-03-24 00:00:00'), Timestamp('2021-08-31 00:00:00'))"
      ]
     },
     "execution_count": 15,
     "metadata": {},
     "output_type": "execute_result"
    }
   ],
   "source": [
    "trading_df = find_trading_df(Sales_in_range, training_start, training_range, holidays)\n",
    "trading_df['Created'].min(), trading_df['Created'].max()"
   ]
  },
  {
   "cell_type": "code",
   "execution_count": 16,
   "id": "926d9704",
   "metadata": {},
   "outputs": [
    {
     "data": {
      "image/png": "[encoded data removed]",
      "text/plain": [
       "<Figure size 1152x576 with 1 Axes>"
      ]
     },
     "metadata": {
      "needs_background": "light"
     },
     "output_type": "display_data"
    }
   ],
   "source": [
    "fig_LM1 = plt.figure(figsize = (16, 8))\n",
    "plt.bar(trading_df['Created'], trading_df['Total spend'],color ='#800080',\n",
    "        width = 0.6)\n",
    "plt.show()"
   ]
  },
  {
   "cell_type": "markdown",
   "id": "61f22757",
   "metadata": {},
   "source": [
    "## Customer Classes"
   ]
  },
  {
   "cell_type": "markdown",
   "id": "6de4f144",
   "metadata": {},
   "source": [
    "We would like to define different classes of Customers so that we are modelling 'like' behaviour. Where Customers have not purchased for a period of time longer than usual we can think of them as having churned to some extent. In our machine learning model we are measuring the extent customers behaviour is likely to remain constant. This means the custoemrs who have already churned will behave consistently but in a different way to those buying regularly. Our classes put customers in different groups so that the models can tell this type of predictability apart."
   ]
  },
  {
   "cell_type": "markdown",
   "id": "3c97ed91",
   "metadata": {},
   "source": [
    "For Customer classes we run a Study periods file"
   ]
  },
  {
   "cell_type": "code",
   "execution_count": 17,
   "id": "c366c238",
   "metadata": {},
   "outputs": [],
   "source": [
    "%run Study_periods.ipynb"
   ]
  },
  {
   "cell_type": "markdown",
   "id": "adf4ff38",
   "metadata": {},
   "source": [
    "where we also have a description of our classes"
   ]
  },
  {
   "cell_type": "code",
   "execution_count": 18,
   "id": "da5be145",
   "metadata": {},
   "outputs": [
    {
     "data": {
      "text/html": [
       "<div>\n",
       "<style scoped>\n",
       "    .dataframe tbody tr th:only-of-type {\n",
       "        vertical-align: middle;\n",
       "    }\n",
       "\n",
       "    .dataframe tbody tr th {\n",
       "        vertical-align: top;\n",
       "    }\n",
       "\n",
       "    .dataframe thead th {\n",
       "        text-align: right;\n",
       "    }\n",
       "</style>\n",
       "<table border=\"1\" class=\"dataframe\">\n",
       "  <thead>\n",
       "    <tr style=\"text-align: right;\">\n",
       "      <th></th>\n",
       "      <th>Classes</th>\n",
       "      <th>Sales_lines</th>\n",
       "      <th>Total_customers</th>\n",
       "    </tr>\n",
       "  </thead>\n",
       "  <tbody>\n",
       "    <tr>\n",
       "      <th>0</th>\n",
       "      <td>A</td>\n",
       "      <td>4339120</td>\n",
       "      <td>8983</td>\n",
       "    </tr>\n",
       "    <tr>\n",
       "      <th>1</th>\n",
       "      <td>B</td>\n",
       "      <td>433337</td>\n",
       "      <td>6046</td>\n",
       "    </tr>\n",
       "    <tr>\n",
       "      <th>2</th>\n",
       "      <td>C</td>\n",
       "      <td>428490</td>\n",
       "      <td>1887</td>\n",
       "    </tr>\n",
       "    <tr>\n",
       "      <th>3</th>\n",
       "      <td>D</td>\n",
       "      <td>66047</td>\n",
       "      <td>10240</td>\n",
       "    </tr>\n",
       "    <tr>\n",
       "      <th>4</th>\n",
       "      <td></td>\n",
       "      <td>5266994</td>\n",
       "      <td>27156</td>\n",
       "    </tr>\n",
       "  </tbody>\n",
       "</table>\n",
       "</div>"
      ],
      "text/plain": [
       "  Classes  Sales_lines  Total_customers\n",
       "0       A      4339120             8983\n",
       "1       B       433337             6046\n",
       "2       C       428490             1887\n",
       "3       D        66047            10240\n",
       "4              5266994            27156"
      ]
     },
     "execution_count": 18,
     "metadata": {},
     "output_type": "execute_result"
    }
   ],
   "source": [
    "Classes_df = pd.read_csv(\"Classes_viz.csv\").fillna('')\n",
    "Classes_df = Classes_df.fillna('')\n",
    "Classes_df"
   ]
  },
  {
   "cell_type": "markdown",
   "id": "9004da65",
   "metadata": {},
   "source": [
    "###### Variable Creation"
   ]
  },
  {
   "cell_type": "markdown",
   "id": "c7284b8e",
   "metadata": {},
   "source": [
    "With the dataset filed into classes of customers we can go ahead and create variables for each of those customers"
   ]
  },
  {
   "cell_type": "markdown",
   "id": "f8928347",
   "metadata": {},
   "source": [
    "###### Class A"
   ]
  },
  {
   "cell_type": "code",
   "execution_count": 23,
   "id": "2a5c9a72",
   "metadata": {},
   "outputs": [],
   "source": [
    "training_data = pd.read_csv(\"C:/Users/knightm-adm/Create_models/Class_A.csv\") \n",
    "training_data.to_csv(\"training_data.csv\", index=False) "
   ]
  },
  {
   "cell_type": "code",
   "execution_count": null,
   "id": "77978719",
   "metadata": {},
   "outputs": [],
   "source": [
    "%run LM_x.ipynb"
   ]
  },
  {
   "cell_type": "code",
   "execution_count": 20,
   "id": "e24aa868",
   "metadata": {},
   "outputs": [
    {
     "data": {
      "text/html": [
       "<div>\n",
       "<style scoped>\n",
       "    .dataframe tbody tr th:only-of-type {\n",
       "        vertical-align: middle;\n",
       "    }\n",
       "\n",
       "    .dataframe tbody tr th {\n",
       "        vertical-align: top;\n",
       "    }\n",
       "\n",
       "    .dataframe thead th {\n",
       "        text-align: right;\n",
       "    }\n",
       "</style>\n",
       "<table border=\"1\" class=\"dataframe\">\n",
       "  <thead>\n",
       "    <tr style=\"text-align: right;\">\n",
       "      <th></th>\n",
       "      <th>Branch</th>\n",
       "      <th>Customer</th>\n",
       "      <th>Recency</th>\n",
       "      <th>Lifetime_pc</th>\n",
       "      <th>Exp_buy_range</th>\n",
       "      <th>C_latency</th>\n",
       "      <th>Training_start_var</th>\n",
       "      <th>First_buy</th>\n",
       "      <th>Tr_range</th>\n",
       "      <th>Tr_range_name</th>\n",
       "      <th>Last_buy</th>\n",
       "      <th>Buys_pd</th>\n",
       "      <th>Buy_days_pd</th>\n",
       "      <th>Buy_concentration</th>\n",
       "      <th>Spend_per_buy</th>\n",
       "      <th>Spend_pd</th>\n",
       "      <th>LM_Int_pd</th>\n",
       "      <th>LM_Coef_pd</th>\n",
       "      <th>LM_MAE_pd</th>\n",
       "      <th>LM_Int_spend</th>\n",
       "      <th>LM_Coef_spend</th>\n",
       "      <th>LM_MAE_spend</th>\n",
       "      <th>LM_P</th>\n",
       "      <th>Actual</th>\n",
       "      <th>A_pd</th>\n",
       "      <th>Training_start_var_2</th>\n",
       "      <th>Tr_range_2</th>\n",
       "      <th>Tr_range_name_2</th>\n",
       "      <th>Buys_pd_2</th>\n",
       "      <th>Buy_days_pd_2</th>\n",
       "      <th>Buy_concentration_2</th>\n",
       "      <th>Spend_per_buy_2</th>\n",
       "      <th>Spend_pd_2</th>\n",
       "      <th>LM_Int_pd_2</th>\n",
       "      <th>LM_Coef_pd_2</th>\n",
       "      <th>LM_MAE_pd_2</th>\n",
       "      <th>LM_Int_spend_2</th>\n",
       "      <th>LM_Coef_spend_2</th>\n",
       "      <th>LM_MAE_spend_2</th>\n",
       "      <th>LM_P_2</th>\n",
       "      <th>Training_start_var_3</th>\n",
       "      <th>Tr_range_3</th>\n",
       "      <th>Tr_range_name_3</th>\n",
       "      <th>Buys_pd_3</th>\n",
       "      <th>Buy_days_pd_3</th>\n",
       "      <th>Buy_concentration_3</th>\n",
       "      <th>Spend_per_buy_3</th>\n",
       "      <th>Spend_pd_3</th>\n",
       "      <th>LM_Int_pd_3</th>\n",
       "      <th>LM_Coef_pd_3</th>\n",
       "      <th>LM_MAE_pd_3</th>\n",
       "      <th>LM_Int_spend_3</th>\n",
       "      <th>LM_Coef_spend_3</th>\n",
       "      <th>LM_MAE_spend_3</th>\n",
       "      <th>LM_P_3</th>\n",
       "      <th>Changing_P</th>\n",
       "      <th>Mean_P</th>\n",
       "      <th>Median_P</th>\n",
       "      <th>Season_adj</th>\n",
       "      <th>Model_name</th>\n",
       "    </tr>\n",
       "  </thead>\n",
       "  <tbody>\n",
       "    <tr>\n",
       "      <th>0</th>\n",
       "      <td>101</td>\n",
       "      <td>92461</td>\n",
       "      <td>8</td>\n",
       "      <td>0.9806</td>\n",
       "      <td>2.9752</td>\n",
       "      <td>2.6889</td>\n",
       "      <td>2020-03-27</td>\n",
       "      <td>2020-03-27</td>\n",
       "      <td>358</td>\n",
       "      <td>0</td>\n",
       "      <td>2021-08-24</td>\n",
       "      <td>1.7039</td>\n",
       "      <td>0.3380</td>\n",
       "      <td>5.0413</td>\n",
       "      <td>24.4461</td>\n",
       "      <td>41.6539</td>\n",
       "      <td>0.1331</td>\n",
       "      <td>-0.0039</td>\n",
       "      <td>1.0317</td>\n",
       "      <td>0.0032</td>\n",
       "      <td>-0.0001</td>\n",
       "      <td>0.0248</td>\n",
       "      <td>29.8158</td>\n",
       "      <td>764.9200</td>\n",
       "      <td>3.0597</td>\n",
       "      <td>2020-12-11</td>\n",
       "      <td>179</td>\n",
       "      <td>1</td>\n",
       "      <td>1.5866</td>\n",
       "      <td>0.2626</td>\n",
       "      <td>6.0426</td>\n",
       "      <td>21.9735</td>\n",
       "      <td>34.8630</td>\n",
       "      <td>0.2304</td>\n",
       "      <td>-0.0082</td>\n",
       "      <td>1.6495</td>\n",
       "      <td>0.0066</td>\n",
       "      <td>-0.0002</td>\n",
       "      <td>0.0473</td>\n",
       "      <td>14.4336</td>\n",
       "      <td>2021-03-12</td>\n",
       "      <td>119</td>\n",
       "      <td>2</td>\n",
       "      <td>1.4034</td>\n",
       "      <td>0.2269</td>\n",
       "      <td>6.1852</td>\n",
       "      <td>21.0268</td>\n",
       "      <td>29.5082</td>\n",
       "      <td>0.2214</td>\n",
       "      <td>0.0055</td>\n",
       "      <td>2.3522</td>\n",
       "      <td>0.0075</td>\n",
       "      <td>0.0002</td>\n",
       "      <td>0.0797</td>\n",
       "      <td>17.1605</td>\n",
       "      <td>12.6553</td>\n",
       "      <td>20.4699</td>\n",
       "      <td>0.0075</td>\n",
       "      <td>1.4864</td>\n",
       "      <td>m_Sep_27_03</td>\n",
       "    </tr>\n",
       "    <tr>\n",
       "      <th>1</th>\n",
       "      <td>101</td>\n",
       "      <td>74222</td>\n",
       "      <td>1</td>\n",
       "      <td>0.9528</td>\n",
       "      <td>1.7734</td>\n",
       "      <td>0.5639</td>\n",
       "      <td>2020-04-21</td>\n",
       "      <td>2020-04-21</td>\n",
       "      <td>344</td>\n",
       "      <td>0</td>\n",
       "      <td>2021-08-31</td>\n",
       "      <td>4.0523</td>\n",
       "      <td>0.5930</td>\n",
       "      <td>6.8333</td>\n",
       "      <td>17.4687</td>\n",
       "      <td>70.7890</td>\n",
       "      <td>0.2391</td>\n",
       "      <td>-0.0082</td>\n",
       "      <td>1.1480</td>\n",
       "      <td>0.0034</td>\n",
       "      <td>-0.0001</td>\n",
       "      <td>0.0162</td>\n",
       "      <td>45.9832</td>\n",
       "      <td>11250.0600</td>\n",
       "      <td>45.0002</td>\n",
       "      <td>2020-12-22</td>\n",
       "      <td>172</td>\n",
       "      <td>1</td>\n",
       "      <td>3.4651</td>\n",
       "      <td>0.5291</td>\n",
       "      <td>6.5495</td>\n",
       "      <td>18.5837</td>\n",
       "      <td>64.3947</td>\n",
       "      <td>0.4995</td>\n",
       "      <td>-0.0315</td>\n",
       "      <td>1.7371</td>\n",
       "      <td>0.0078</td>\n",
       "      <td>-0.0005</td>\n",
       "      <td>0.0270</td>\n",
       "      <td>7.8522</td>\n",
       "      <td>2021-03-19</td>\n",
       "      <td>114</td>\n",
       "      <td>2</td>\n",
       "      <td>2.5000</td>\n",
       "      <td>0.4649</td>\n",
       "      <td>5.3774</td>\n",
       "      <td>20.2610</td>\n",
       "      <td>50.6525</td>\n",
       "      <td>0.4831</td>\n",
       "      <td>-0.0136</td>\n",
       "      <td>1.9661</td>\n",
       "      <td>0.0095</td>\n",
       "      <td>-0.0003</td>\n",
       "      <td>0.0388</td>\n",
       "      <td>15.6800</td>\n",
       "      <td>30.3032</td>\n",
       "      <td>23.1718</td>\n",
       "      <td>0.0095</td>\n",
       "      <td>1.4864</td>\n",
       "      <td>m_Sep_27_03</td>\n",
       "    </tr>\n",
       "    <tr>\n",
       "      <th>2</th>\n",
       "      <td>101</td>\n",
       "      <td>1320</td>\n",
       "      <td>13</td>\n",
       "      <td>0.9806</td>\n",
       "      <td>2.2222</td>\n",
       "      <td>5.8500</td>\n",
       "      <td>2020-03-24</td>\n",
       "      <td>2020-03-24</td>\n",
       "      <td>361</td>\n",
       "      <td>0</td>\n",
       "      <td>2021-08-19</td>\n",
       "      <td>2.2576</td>\n",
       "      <td>0.4515</td>\n",
       "      <td>5.0000</td>\n",
       "      <td>28.7520</td>\n",
       "      <td>64.9111</td>\n",
       "      <td>0.3048</td>\n",
       "      <td>-0.0287</td>\n",
       "      <td>2.9549</td>\n",
       "      <td>0.0047</td>\n",
       "      <td>-0.0004</td>\n",
       "      <td>0.0455</td>\n",
       "      <td>0.9255</td>\n",
       "      <td>31238.9000</td>\n",
       "      <td>124.9556</td>\n",
       "      <td>2020-12-10</td>\n",
       "      <td>180</td>\n",
       "      <td>1</td>\n",
       "      <td>1.5889</td>\n",
       "      <td>0.3556</td>\n",
       "      <td>4.4688</td>\n",
       "      <td>27.3498</td>\n",
       "      <td>43.4557</td>\n",
       "      <td>0.5496</td>\n",
       "      <td>-0.0685</td>\n",
       "      <td>2.2462</td>\n",
       "      <td>0.0126</td>\n",
       "      <td>-0.0016</td>\n",
       "      <td>0.0517</td>\n",
       "      <td>0.0000</td>\n",
       "      <td>2021-03-11</td>\n",
       "      <td>120</td>\n",
       "      <td>2</td>\n",
       "      <td>1.0167</td>\n",
       "      <td>0.2667</td>\n",
       "      <td>3.8125</td>\n",
       "      <td>16.9446</td>\n",
       "      <td>17.2270</td>\n",
       "      <td>0.2726</td>\n",
       "      <td>-0.0287</td>\n",
       "      <td>0.9718</td>\n",
       "      <td>0.0158</td>\n",
       "      <td>-0.0017</td>\n",
       "      <td>0.0564</td>\n",
       "      <td>0.0000</td>\n",
       "      <td>0.9255</td>\n",
       "      <td>0.3085</td>\n",
       "      <td>0.0158</td>\n",
       "      <td>1.4864</td>\n",
       "      <td>m_Sep_27_03</td>\n",
       "    </tr>\n",
       "  </tbody>\n",
       "</table>\n",
       "</div>"
      ],
      "text/plain": [
       "   Branch  Customer  Recency  Lifetime_pc  Exp_buy_range  C_latency  \\\n",
       "0     101     92461        8       0.9806         2.9752     2.6889   \n",
       "1     101     74222        1       0.9528         1.7734     0.5639   \n",
       "2     101      1320       13       0.9806         2.2222     5.8500   \n",
       "\n",
       "  Training_start_var   First_buy  Tr_range  Tr_range_name    Last_buy  \\\n",
       "0         2020-03-27  2020-03-27       358              0  2021-08-24   \n",
       "1         2020-04-21  2020-04-21       344              0  2021-08-31   \n",
       "2         2020-03-24  2020-03-24       361              0  2021-08-19   \n",
       "\n",
       "   Buys_pd  Buy_days_pd  Buy_concentration  Spend_per_buy  Spend_pd  \\\n",
       "0   1.7039       0.3380             5.0413        24.4461   41.6539   \n",
       "1   4.0523       0.5930             6.8333        17.4687   70.7890   \n",
       "2   2.2576       0.4515             5.0000        28.7520   64.9111   \n",
       "\n",
       "   LM_Int_pd  LM_Coef_pd  LM_MAE_pd  LM_Int_spend  LM_Coef_spend  \\\n",
       "0     0.1331     -0.0039     1.0317        0.0032        -0.0001   \n",
       "1     0.2391     -0.0082     1.1480        0.0034        -0.0001   \n",
       "2     0.3048     -0.0287     2.9549        0.0047        -0.0004   \n",
       "\n",
       "   LM_MAE_spend    LM_P     Actual     A_pd Training_start_var_2  Tr_range_2  \\\n",
       "0        0.0248 29.8158   764.9200   3.0597           2020-12-11         179   \n",
       "1        0.0162 45.9832 11250.0600  45.0002           2020-12-22         172   \n",
       "2        0.0455  0.9255 31238.9000 124.9556           2020-12-10         180   \n",
       "\n",
       "   Tr_range_name_2  Buys_pd_2  Buy_days_pd_2  Buy_concentration_2  \\\n",
       "0                1     1.5866         0.2626               6.0426   \n",
       "1                1     3.4651         0.5291               6.5495   \n",
       "2                1     1.5889         0.3556               4.4688   \n",
       "\n",
       "   Spend_per_buy_2  Spend_pd_2  LM_Int_pd_2  LM_Coef_pd_2  LM_MAE_pd_2  \\\n",
       "0          21.9735     34.8630       0.2304       -0.0082       1.6495   \n",
       "1          18.5837     64.3947       0.4995       -0.0315       1.7371   \n",
       "2          27.3498     43.4557       0.5496       -0.0685       2.2462   \n",
       "\n",
       "   LM_Int_spend_2  LM_Coef_spend_2  LM_MAE_spend_2  LM_P_2  \\\n",
       "0          0.0066          -0.0002          0.0473 14.4336   \n",
       "1          0.0078          -0.0005          0.0270  7.8522   \n",
       "2          0.0126          -0.0016          0.0517  0.0000   \n",
       "\n",
       "  Training_start_var_3  Tr_range_3  Tr_range_name_3  Buys_pd_3  Buy_days_pd_3  \\\n",
       "0           2021-03-12         119                2     1.4034         0.2269   \n",
       "1           2021-03-19         114                2     2.5000         0.4649   \n",
       "2           2021-03-11         120                2     1.0167         0.2667   \n",
       "\n",
       "   Buy_concentration_3  Spend_per_buy_3  Spend_pd_3  LM_Int_pd_3  \\\n",
       "0               6.1852          21.0268     29.5082       0.2214   \n",
       "1               5.3774          20.2610     50.6525       0.4831   \n",
       "2               3.8125          16.9446     17.2270       0.2726   \n",
       "\n",
       "   LM_Coef_pd_3  LM_MAE_pd_3  LM_Int_spend_3  LM_Coef_spend_3  LM_MAE_spend_3  \\\n",
       "0        0.0055       2.3522          0.0075           0.0002          0.0797   \n",
       "1       -0.0136       1.9661          0.0095          -0.0003          0.0388   \n",
       "2       -0.0287       0.9718          0.0158          -0.0017          0.0564   \n",
       "\n",
       "   LM_P_3  Changing_P  Mean_P  Median_P  Season_adj   Model_name  \n",
       "0 17.1605     12.6553 20.4699    0.0075      1.4864  m_Sep_27_03  \n",
       "1 15.6800     30.3032 23.1718    0.0095      1.4864  m_Sep_27_03  \n",
       "2  0.0000      0.9255  0.3085    0.0158      1.4864  m_Sep_27_03  "
      ]
     },
     "execution_count": 20,
     "metadata": {},
     "output_type": "execute_result"
    }
   ],
   "source": [
    "ML_variables = pd.read_csv(\"LM_variables_\" + model_name + \".csv\") \n",
    "pd.options.display.max_columns = 100\n",
    "ML_variables.head(3)"
   ]
  },
  {
   "cell_type": "markdown",
   "id": "c4c1612a",
   "metadata": {},
   "source": [
    "## Machine learning"
   ]
  },
  {
   "cell_type": "code",
   "execution_count": null,
   "id": "201ce998",
   "metadata": {},
   "outputs": [],
   "source": [
    "Class_A_for_ML.shape"
   ]
  },
  {
   "cell_type": "code",
   "execution_count": null,
   "id": "8f35722a",
   "metadata": {},
   "outputs": [],
   "source": []
  }
 ],
 "metadata": {
  "kernelspec": {
   "display_name": "Python 3 (ipykernel)",
   "language": "python",
   "name": "python3"
  },
  "language_info": {
   "codemirror_mode": {
    "name": "ipython",
    "version": 3
   },
   "file_extension": ".py",
   "mimetype": "text/x-python",
   "name": "python",
   "nbconvert_exporter": "python",
   "pygments_lexer": "ipython3",
   "version": "3.9.12"
  }
 },
 "nbformat": 4,
 "nbformat_minor": 5
}
